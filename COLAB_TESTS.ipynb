{
  "nbformat": 4,
  "nbformat_minor": 0,
  "metadata": {
    "colab": {
      "name": "Untitled0.ipynb",
      "provenance": [],
      "collapsed_sections": [],
      "authorship_tag": "ABX9TyNUnQEL8N6aGVI7Pxb8CIgn",
      "include_colab_link": true
    },
    "kernelspec": {
      "name": "python3",
      "display_name": "Python 3"
    },
    "language_info": {
      "name": "python"
    }
  },
  "cells": [
    {
      "cell_type": "markdown",
      "metadata": {
        "id": "view-in-github",
        "colab_type": "text"
      },
      "source": [
        "<a href=\"https://colab.research.google.com/github/SuperChini/Brief-sample/blob/main/COLAB_TESTS.ipynb\" target=\"_parent\"><img src=\"https://colab.research.google.com/assets/colab-badge.svg\" alt=\"Open In Colab\"/></a>"
      ]
    },
    {
      "cell_type": "code",
      "execution_count": 18,
      "metadata": {
        "colab": {
          "base_uri": "https://localhost:8080/"
        },
        "id": "vWZ2HCK95-nT",
        "outputId": "5ade6b1c-34f8-45cf-f2fc-434586d07b60"
      },
      "outputs": [
        {
          "output_type": "stream",
          "name": "stdout",
          "text": [
            "Introduzca el entero a analizar\n",
            "5\n",
            "La suma desde 1 hasta  5 es =  15.0\n",
            "\n",
            "\n",
            "Lista 1: \n",
            " ['bananas', 'manzanas', 'uvas', 'kiwis', 'tomates', 'sandía', ['castañas', 'nueces', 'almendras', 'avellanas'], [1, 3.14159, 'castañas', 'nueces', 'almendras', 'avellanas'], 1, 3.14159, 'castañas', 'nueces', 'almendras', 'avellanas']\n",
            "Lista 2: \n",
            " [1, 3.14159, 'castañas', 'nueces', 'almendras', 'avellanas']\n",
            "\n",
            "\n",
            "Tipos dentro de la lista 1: \n",
            "<class 'str'>\n",
            "<class 'str'>\n",
            "<class 'str'>\n",
            "<class 'str'>\n",
            "<class 'str'>\n",
            "<class 'str'>\n",
            "<class 'list'>\n",
            "<class 'list'>\n",
            "<class 'int'>\n",
            "<class 'float'>\n",
            "<class 'str'>\n",
            "<class 'str'>\n",
            "<class 'str'>\n",
            "<class 'str'>\n",
            "\n",
            "\n",
            "Tipos dentro de la lista 2: \n",
            "<class 'int'>\n",
            "<class 'float'>\n",
            "<class 'str'>\n",
            "<class 'str'>\n",
            "<class 'str'>\n",
            "<class 'str'>\n",
            "\n",
            "\n"
          ]
        }
      ],
      "source": [
        "print ('Introduzca el entero a analizar')\n",
        "a = input()\n",
        "a=int(a)\n",
        "b=a+1\n",
        "for i in range (1, a):\n",
        " sum= (a+1)*a/2\n",
        "print('La suma desde 1 hasta', a, 'es = ', sum) \n",
        "print('\\n')\n",
        "\n",
        "lis1 = ['bananas','manzanas','uvas','kiwis','tomates','sandía', ['castañas', 'nueces','almendras','avellanas']]\n",
        "lis2 = [1, 3.14159, 'castañas', 'nueces','almendras','avellanas']\n",
        "\n",
        "#print(type(lis2[1:6]))\n",
        "\n",
        "lis1.append(lis2)\n",
        "lis1.extend(lis2)\n",
        "\n",
        "print('Lista 1:','\\n', lis1)\n",
        "print('Lista 2:', '\\n', lis2)\n",
        "print('\\n')\n",
        "\n",
        "print('Tipos dentro de la lista 1: ')\n",
        "for i in range (0,len(lis1)):\n",
        "  print(type(lis1[i]))\n",
        "print('\\n')\n",
        "\n",
        "print('Tipos dentro de la lista 2: ')\n",
        "for i in range(0,len(lis2)):\n",
        "  print(type(lis2[i]))\n",
        "print('\\n')"
      ]
    },
    {
      "cell_type": "code",
      "source": [
        ""
      ],
      "metadata": {
        "id": "9NYQxt8djnJf"
      },
      "execution_count": null,
      "outputs": []
    }
  ]
}