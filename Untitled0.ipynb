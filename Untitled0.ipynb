{
  "nbformat": 4,
  "nbformat_minor": 0,
  "metadata": {
    "colab": {
      "name": "Untitled0.ipynb",
      "provenance": [],
      "authorship_tag": "ABX9TyN0ag3pku97ZhI3MIHCxxFo",
      "include_colab_link": true
    },
    "kernelspec": {
      "name": "python3",
      "display_name": "Python 3"
    },
    "language_info": {
      "name": "python"
    }
  },
  "cells": [
    {
      "cell_type": "markdown",
      "metadata": {
        "id": "view-in-github",
        "colab_type": "text"
      },
      "source": [
        "<a href=\"https://colab.research.google.com/github/SuperChini/Brief-sample/blob/main/Untitled0.ipynb\" target=\"_parent\"><img src=\"https://colab.research.google.com/assets/colab-badge.svg\" alt=\"Open In Colab\"/></a>"
      ]
    },
    {
      "cell_type": "code",
      "execution_count": null,
      "metadata": {
        "colab": {
          "base_uri": "https://localhost:8080/"
        },
        "id": "vWZ2HCK95-nT",
        "outputId": "464dc412-a956-4728-f50f-9b0bc7d84be8"
      },
      "outputs": [
        {
          "output_type": "stream",
          "name": "stdout",
          "text": [
            "Introduzca el entero a analizar\n",
            "2\n",
            "6.0\n"
          ]
        }
      ],
      "source": [
        "print ('Introduzca el entero a analizar')\n",
        "a = input()\n",
        "a=int(a)\n",
        "b=a+1\n",
        "for i in range (1, b):\n",
        " sum= (b+1)*b/2\n",
        "print(sum) "
      ]
    }
  ]
}